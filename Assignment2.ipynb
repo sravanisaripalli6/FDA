{
  "nbformat": 4,
  "nbformat_minor": 0,
  "metadata": {
    "colab": {
      "name": "Assignment2.ipynb",
      "provenance": [],
      "collapsed_sections": []
    },
    "kernelspec": {
      "name": "python3",
      "display_name": "Python 3"
    },
    "language_info": {
      "name": "python"
    }
  },
  "cells": [
    {
      "cell_type": "code",
      "source": [
        "import sys\n",
        "!{sys.executable} -m pip install stemgraphic"
      ],
      "metadata": {
        "id": "z3n6FHmDKJXz"
      },
      "execution_count": null,
      "outputs": []
    },
    {
      "cell_type": "code",
      "source": [
        "import statistics\n",
        "import pandas as pd\n",
        "import matplotlib.pyplot as plot\n",
        "import stemgraphic"
      ],
      "metadata": {
        "id": "3roCudZG1f_f"
      },
      "execution_count": 3,
      "outputs": []
    },
    {
      "cell_type": "code",
      "execution_count": 4,
      "metadata": {
        "colab": {
          "base_uri": "https://localhost:8080/"
        },
        "id": "Vizf68yBxwmQ",
        "outputId": "9383f972-b254-4194-e576-a5881e5de603"
      },
      "outputs": [
        {
          "output_type": "stream",
          "name": "stdout",
          "text": [
            "Mean of the sample is 2.8973333333333335 \n",
            "Standard Deviation of the sample is 0.5415172384515842 \n"
          ]
        }
      ],
      "source": [
        "list_numbers = [3.79 , 2.99, 2.45 , 2.14 , 3.36 , 2.05 , 3.14 , 3.54 , 2.77 , 2.91 , 3.10 ,  1.84 , 2.52 ,3.22 , 2.67 , 2.52 , 2.71 , 2.75 , 3.57 , 3.85, 2.89 , 2.83 ,3.13 ,2.44, 2.10 ,3.71 ,2.37,2.68, 3.51, 3.37]\n",
        "print(\"Mean of the sample is % s \" %(statistics.mean(list_numbers))) \n",
        "print(\"Standard Deviation of the sample is % s \"%(statistics.stdev(list_numbers)))\n"
      ]
    },
    {
      "cell_type": "code",
      "source": [
        "df = pd.DataFrame(list_numbers)\n",
        "df.plot.hist()\n",
        "plot.xlabel('Sample')"
      ],
      "metadata": {
        "colab": {
          "base_uri": "https://localhost:8080/",
          "height": 297
        },
        "id": "7f3tIISiT-W4",
        "outputId": "80e90cf0-ab40-4ae1-ccf9-b11eb924549f"
      },
      "execution_count": 6,
      "outputs": [
        {
          "output_type": "execute_result",
          "data": {
            "text/plain": [
              "Text(0.5, 0, 'Sample')"
            ]
          },
          "metadata": {},
          "execution_count": 6
        },
        {
          "output_type": "display_data",
          "data": {
            "image/png": "[encoded data removed]",
            "text/plain": [
              "<Figure size 432x288 with 1 Axes>"
            ]
          },
          "metadata": {
            "needs_background": "light"
          }
        }
      ]
    },
    {
      "cell_type": "code",
      "source": [
        "stemgraphic.stem_graphic(list_numbers, scale = 1)"
      ],
      "metadata": {
        "colab": {
          "base_uri": "https://localhost:8080/",
          "height": 170
        },
        "id": "VsgjBG-OKSdE",
        "outputId": "5757530e-25c9-4d26-843d-95fb754f3aba"
      },
      "execution_count": 8,
      "outputs": [
        {
          "output_type": "execute_result",
          "data": {
            "text/plain": [
              "(<Figure size 540x108 with 1 Axes>,\n",
              " <matplotlib.axes._axes.Axes at 0x7f4a3c7656d0>)"
            ]
          },
          "metadata": {},
          "execution_count": 8
        },
        {
          "output_type": "display_data",
          "data": {
            "image/png": "[encoded data removed]",
            "text/plain": [
              "<Figure size 540x108 with 1 Axes>"
            ]
          },
          "metadata": {
            "needs_background": "light"
          }
        }
      ]
    },
    {
      "cell_type": "code",
      "source": [
        "df.boxplot()\n",
        "plot.ylabel('Sample')"
      ],
      "metadata": {
        "colab": {
          "base_uri": "https://localhost:8080/",
          "height": 283
        },
        "id": "N5IuzwhCMVY8",
        "outputId": "4601dd39-1064-447e-de7a-135bf081cf9d"
      },
      "execution_count": 12,
      "outputs": [
        {
          "output_type": "execute_result",
          "data": {
            "text/plain": [
              "Text(0, 0.5, 'Sample')"
            ]
          },
          "metadata": {},
          "execution_count": 12
        },
        {
          "output_type": "display_data",
          "data": {
            "image/png": "[encoded data removed]",
            "text/plain": [
              "<Figure size 432x288 with 1 Axes>"
            ]
          },
          "metadata": {
            "needs_background": "light"
          }
        }
      ]
    }
  ]
}